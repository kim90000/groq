{
  "nbformat": 4,
  "nbformat_minor": 0,
  "metadata": {
    "colab": {
      "provenance": []
    },
    "kernelspec": {
      "name": "python3",
      "display_name": "Python 3"
    },
    "language_info": {
      "name": "python"
    }
  },
  "cells": [
    {
      "cell_type": "code",
      "execution_count": 1,
      "metadata": {
        "id": "412_YSioXAfG"
      },
      "outputs": [],
      "source": [
        "!export GROQ_API_KEY=XXXXXXXXXXXXXX\n"
      ]
    },
    {
      "cell_type": "code",
      "source": [
        "!pip install groq"
      ],
      "metadata": {
        "colab": {
          "base_uri": "https://localhost:8080/"
        },
        "id": "S8VGwfBxXEDG",
        "outputId": "23f03eb5-431f-4f3a-b6b1-b5bfdcabf744"
      },
      "execution_count": 1,
      "outputs": [
        {
          "output_type": "stream",
          "name": "stdout",
          "text": [
            "Collecting groq\n",
            "  Downloading groq-0.20.0-py3-none-any.whl.metadata (15 kB)\n",
            "Requirement already satisfied: anyio<5,>=3.5.0 in /usr/local/lib/python3.11/dist-packages (from groq) (4.9.0)\n",
            "Requirement already satisfied: distro<2,>=1.7.0 in /usr/local/lib/python3.11/dist-packages (from groq) (1.9.0)\n",
            "Requirement already satisfied: httpx<1,>=0.23.0 in /usr/local/lib/python3.11/dist-packages (from groq) (0.28.1)\n",
            "Requirement already satisfied: pydantic<3,>=1.9.0 in /usr/local/lib/python3.11/dist-packages (from groq) (2.11.0)\n",
            "Requirement already satisfied: sniffio in /usr/local/lib/python3.11/dist-packages (from groq) (1.3.1)\n",
            "Requirement already satisfied: typing-extensions<5,>=4.10 in /usr/local/lib/python3.11/dist-packages (from groq) (4.13.0)\n",
            "Requirement already satisfied: idna>=2.8 in /usr/local/lib/python3.11/dist-packages (from anyio<5,>=3.5.0->groq) (3.10)\n",
            "Requirement already satisfied: certifi in /usr/local/lib/python3.11/dist-packages (from httpx<1,>=0.23.0->groq) (2025.1.31)\n",
            "Requirement already satisfied: httpcore==1.* in /usr/local/lib/python3.11/dist-packages (from httpx<1,>=0.23.0->groq) (1.0.7)\n",
            "Requirement already satisfied: h11<0.15,>=0.13 in /usr/local/lib/python3.11/dist-packages (from httpcore==1.*->httpx<1,>=0.23.0->groq) (0.14.0)\n",
            "Requirement already satisfied: annotated-types>=0.6.0 in /usr/local/lib/python3.11/dist-packages (from pydantic<3,>=1.9.0->groq) (0.7.0)\n",
            "Requirement already satisfied: pydantic-core==2.33.0 in /usr/local/lib/python3.11/dist-packages (from pydantic<3,>=1.9.0->groq) (2.33.0)\n",
            "Requirement already satisfied: typing-inspection>=0.4.0 in /usr/local/lib/python3.11/dist-packages (from pydantic<3,>=1.9.0->groq) (0.4.0)\n",
            "Downloading groq-0.20.0-py3-none-any.whl (124 kB)\n",
            "\u001b[2K   \u001b[90m━━━━━━━━━━━━━━━━━━━━━━━━━━━━━━━━━━━━━━━━\u001b[0m \u001b[32m124.9/124.9 kB\u001b[0m \u001b[31m2.7 MB/s\u001b[0m eta \u001b[36m0:00:00\u001b[0m\n",
            "\u001b[?25hInstalling collected packages: groq\n",
            "Successfully installed groq-0.20.0\n"
          ]
        }
      ]
    },
    {
      "source": [
        "import os\n",
        "\n",
        "from groq import Groq\n",
        "\n",
        "# Set the GROQ_API_KEY environment variable within the current process\n",
        "os.environ[\"GROQ_API_KEY\"] = \"\"  # Replace with your actual API key\n",
        "\n",
        "client = Groq(\n",
        "    api_key=os.environ.get(\"GROQ_API_KEY\"),\n",
        ")\n",
        "\n",
        "chat_completion = client.chat.completions.create(\n",
        "    messages=[\n",
        "        {\n",
        "            \"role\": \"user\",\n",
        "            \"content\": \"Explain the importance of fast language models\",\n",
        "        }\n",
        "    ],\n",
        "    model=\"llama-3.3-70b-versatile\",\n",
        ")\n",
        "\n",
        "print(chat_completion.choices[0].message.content)"
      ],
      "cell_type": "code",
      "metadata": {
        "colab": {
          "base_uri": "https://localhost:8080/"
        },
        "id": "ehDlpBD6Zk11",
        "outputId": "2095edca-88f0-4729-cc9f-ad60f7d687ff"
      },
      "execution_count": 4,
      "outputs": [
        {
          "output_type": "stream",
          "name": "stdout",
          "text": [
            "Fast language models are crucial in the field of natural language processing (NLP) and have numerous benefits. Here are some reasons why they are important:\n",
            "\n",
            "1. **Improved User Experience**: Fast language models enable applications to respond quickly to user queries, making the interaction more engaging and efficient. This is particularly important in real-time applications such as chatbots, virtual assistants, and language translation software.\n",
            "2. **Increased Productivity**: By processing and generating text quickly, fast language models can automate tasks such as text summarization, sentiment analysis, and content generation, freeing up human time and increasing productivity.\n",
            "3. **Enhanced Real-Time Applications**: Fast language models are essential for applications that require real-time processing, such as:\n",
            "\t* Live language translation\n",
            "\t* Real-time chatbots\n",
            "\t* Speech recognition systems\n",
            "\t* Sentiment analysis for social media monitoring\n",
            "4. **Better Support for Low-Resource Devices**: Fast language models can be optimized to run on low-resource devices, such as smartphones, smart home devices, or edge devices, making NLP capabilities more accessible to a wider range of users.\n",
            "5. **Improved Model Deployment**: Fast language models can be easily deployed in various environments, including cloud, on-premises, or edge devices, without significant infrastructure investments.\n",
            "6. **Enhanced Model Updating and Maintenance**: Fast language models can be updated and fine-tuned more quickly, allowing developers to adapt to changing language patterns, new terminology, and evolving user needs.\n",
            "7. **Competitive Advantage**: Organizations that leverage fast language models can gain a competitive advantage by:\n",
            "\t* Responding quickly to customer inquiries\n",
            "\t* Providing personalized and relevant content\n",
            "\t* Analyzing large volumes of text data in real-time\n",
            "8. **Research and Development**: Fast language models facilitate research and development in NLP by enabling researchers to:\n",
            "\t* Test and validate new models and techniques more quickly\n",
            "\t* Explore new applications and use cases\n",
            "\t* Improve the overall quality and performance of language models\n",
            "9. **Support for Multimodal Interaction**: Fast language models can be integrated with other modalities, such as vision, speech, or gesture recognition, to create more interactive and engaging user experiences.\n",
            "10. **Democratization of NLP**: Fast language models make NLP capabilities more accessible to a broader range of developers, organizations, and users, enabling more people to build and utilize NLP-powered applications.\n",
            "\n",
            "In summary, fast language models are essential for creating responsive, efficient, and effective NLP-powered applications, and their importance will continue to grow as the demand for real-time language processing and generation increases.\n"
          ]
        }
      ]
    },
    {
      "cell_type": "code",
      "source": [
        "import os\n",
        "\n",
        "from groq import Groq\n",
        "\n",
        "# Set the GROQ_API_KEY environment variable within the current process\n",
        "os.environ[\"GROQ_API_KEY\"] = \"XXXXXXXXXXXXXX\"  # Replace with your actual API key\n",
        "\n",
        "client = Groq(\n",
        "    api_key=os.environ.get(\"GROQ_API_KEY\"),\n",
        ")\n",
        "\n",
        "chat_completion = client.chat.completions.create(\n",
        "    messages=[\n",
        "        {\n",
        "            \"role\": \"user\",\n",
        "            \"content\": \"The Life of Archimedes is\",\n",
        "        }\n",
        "    ],\n",
        "    model=\"llama-3.3-70b-versatile\",\n",
        ")\n",
        "\n",
        "print(chat_completion.choices[0].message.content)"
      ],
      "metadata": {
        "colab": {
          "base_uri": "https://localhost:8080/"
        },
        "id": "-xzdhLZdZjDc",
        "outputId": "4b669846-002a-494d-c7e1-22ce1263feef"
      },
      "execution_count": 7,
      "outputs": [
        {
          "output_type": "stream",
          "name": "stdout",
          "text": [
            "The Life of Archimedes is a historical biography that revolves around the life of the ancient Greek mathematician, physicist, and engineer Archimedes. Born in Syracuse, Sicily, around 287 BC, Archimedes is widely regarded as one of the greatest mathematicians of all time.\n",
            "\n",
            "Here's a brief overview of his life:\n",
            "\n",
            "**Early Life and Education**\n",
            "Archimedes was born into a family of mathematicians and scientists. His father, Phidias, was an astronomer, and it is believed that Archimedes' family had connections with the rulers of Syracuse. Archimedes received his education in Alexandria, Egypt, which was a major center of learning at the time. He studied mathematics, astronomy, and engineering under the guidance of notable mathematicians such as Euclid and Eratosthenes.\n",
            "\n",
            "**Contributions to Mathematics and Science**\n",
            "Archimedes made significant contributions to various fields, including mathematics, physics, engineering, and astronomy. Some of his notable achievements include:\n",
            "\n",
            "1. **Development of the Method of Exhaustion**: Archimedes developed a method for calculating the area and perimeter of polygons, which was a precursor to integration.\n",
            "2. **Discovery of the Principle of Buoyancy**: Archimedes discovered the principle of buoyancy, which states that the upward force exerted on an object immersed in a fluid is equal to the weight of the fluid displaced by the object.\n",
            "3. **Design of Innovative Machines**: Archimedes designed and built various machines, including the Claw of Archimedes, a ship-lifting device used to defend the city of Syracuse.\n",
            "4. **Calculation of Pi**: Archimedes approximated the value of pi (π) to be between 3 1/7 and 3 10/71, which was a remarkable achievement for his time.\n",
            "\n",
            "**The Siege of Syracuse and Death**\n",
            "In 212 BC, during the Second Punic War, the Roman general Marcellus laid siege to the city of Syracuse. Archimedes, who was then an old man, played a significant role in defending the city by designing and building various machines, including catapults and ship-lifting devices. However, the Romans eventually breached the city walls, and Archimedes was killed during the sack of Syracuse. According to legend, Archimedes was so absorbed in his mathematical calculations that he did not notice the approaching Roman soldiers, who killed him.\n",
            "\n",
            "**Legacy**\n",
            "The life and work of Archimedes have had a profound impact on the development of mathematics, science, and engineering. His contributions to the field of mathematics, particularly his work on the method of exhaustion and the calculation of pi, have been widely influential. Today, Archimedes is remembered as one of the greatest mathematicians of all time, and his legacy continues to inspire and influence scientists, mathematicians, and engineers around the world.\n"
          ]
        }
      ]
    },
    {
      "cell_type": "code",
      "source": [],
      "metadata": {
        "id": "rCdHuhHAZ4l1"
      },
      "execution_count": null,
      "outputs": []
    }
  ]
}